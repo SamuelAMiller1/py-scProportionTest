{
 "cells": [
  {
   "cell_type": "markdown",
   "id": "f550d9d6",
   "metadata": {},
   "source": [
    "# scProportionTest Tutorial"
   ]
  },
  {
   "cell_type": "code",
   "execution_count": 1,
   "id": "29ca2408",
   "metadata": {},
   "outputs": [
    {
     "name": "stdout",
     "output_type": "stream",
     "text": [
      "This notebook was last run on 2023-08-18.\n"
     ]
    }
   ],
   "source": [
    "from datetime import datetime\n",
    "today = datetime.now().date().isoformat()\n",
    "print(f\"This notebook was last run on {today}.\")"
   ]
  },
  {
   "cell_type": "code",
   "execution_count": 2,
   "id": "b4b6180f",
   "metadata": {},
   "outputs": [],
   "source": [
    "%%capture\n",
    "!pip install py-scProportionTest"
   ]
  },
  {
   "cell_type": "code",
   "execution_count": 3,
   "id": "55261d26",
   "metadata": {},
   "outputs": [],
   "source": [
    "import numpy as np\n",
    "import pandas as pd\n",
    "import scProportionTest as pt\n",
    "from anndata import AnnData"
   ]
  },
  {
   "cell_type": "markdown",
   "id": "10019bcf",
   "metadata": {},
   "source": [
    "## Create toy data"
   ]
  },
  {
   "cell_type": "code",
   "execution_count": 4,
   "id": "171797dd",
   "metadata": {},
   "outputs": [],
   "source": [
    "# Create toy dataset with 7 cell types\n",
    "np.random.seed(42)\n",
    "n_cells = 2000\n",
    "n_genes = 50\n",
    "X = np.random.rand(n_cells, n_genes)\n",
    "groups = [\"group1\"] * 1000 + [\"group2\"] * 1000\n",
    "cell_types_group1 = [\"A\"] * 150 + [\"B\"] * 150 + [\"C\"] * 150 + [\"D\"] * 200 + [\"E\"] * 100 + [\"F\"] * 150 + [\"G\"] * 100\n",
    "cell_types_group2 = [\"A\"] * 100 + [\"B\"] * 100 + [\"C\"] * 50 + [\"D\"] * 200 + [\"E\"] * 100 + [\"F\"] * 150 + [\"G\"] * 300\n",
    "cell_types = cell_types_group1 + cell_types_group2\n",
    "adata = AnnData(X)\n",
    "adata.obs['group'] = groups\n",
    "adata.obs['cell_type'] = cell_types"
   ]
  },
  {
   "cell_type": "code",
   "execution_count": 5,
   "id": "d8d89c01",
   "metadata": {
    "scrolled": true
   },
   "outputs": [
    {
     "data": {
      "text/plain": [
       "(2000, 50)"
      ]
     },
     "metadata": {},
     "output_type": "display_data"
    },
    {
     "data": {
      "text/html": [
       "<div>\n",
       "<style scoped>\n",
       "    .dataframe tbody tr th:only-of-type {\n",
       "        vertical-align: middle;\n",
       "    }\n",
       "\n",
       "    .dataframe tbody tr th {\n",
       "        vertical-align: top;\n",
       "    }\n",
       "\n",
       "    .dataframe thead th {\n",
       "        text-align: right;\n",
       "    }\n",
       "</style>\n",
       "<table border=\"1\" class=\"dataframe\">\n",
       "  <thead>\n",
       "    <tr style=\"text-align: right;\">\n",
       "      <th></th>\n",
       "      <th>group</th>\n",
       "      <th>cell_type</th>\n",
       "    </tr>\n",
       "  </thead>\n",
       "  <tbody>\n",
       "    <tr>\n",
       "      <th>0</th>\n",
       "      <td>group1</td>\n",
       "      <td>A</td>\n",
       "    </tr>\n",
       "    <tr>\n",
       "      <th>1</th>\n",
       "      <td>group1</td>\n",
       "      <td>A</td>\n",
       "    </tr>\n",
       "  </tbody>\n",
       "</table>\n",
       "</div>"
      ],
      "text/plain": [
       "    group cell_type\n",
       "0  group1         A\n",
       "1  group1         A"
      ]
     },
     "metadata": {},
     "output_type": "display_data"
    },
    {
     "data": {
      "text/html": [
       "<div>\n",
       "<style scoped>\n",
       "    .dataframe tbody tr th:only-of-type {\n",
       "        vertical-align: middle;\n",
       "    }\n",
       "\n",
       "    .dataframe tbody tr th {\n",
       "        vertical-align: top;\n",
       "    }\n",
       "\n",
       "    .dataframe thead th {\n",
       "        text-align: right;\n",
       "    }\n",
       "</style>\n",
       "<table border=\"1\" class=\"dataframe\">\n",
       "  <thead>\n",
       "    <tr style=\"text-align: right;\">\n",
       "      <th>cell_type</th>\n",
       "      <th>A</th>\n",
       "      <th>B</th>\n",
       "      <th>C</th>\n",
       "      <th>D</th>\n",
       "      <th>E</th>\n",
       "      <th>F</th>\n",
       "      <th>G</th>\n",
       "    </tr>\n",
       "    <tr>\n",
       "      <th>group</th>\n",
       "      <th></th>\n",
       "      <th></th>\n",
       "      <th></th>\n",
       "      <th></th>\n",
       "      <th></th>\n",
       "      <th></th>\n",
       "      <th></th>\n",
       "    </tr>\n",
       "  </thead>\n",
       "  <tbody>\n",
       "    <tr>\n",
       "      <th>group1</th>\n",
       "      <td>150</td>\n",
       "      <td>150</td>\n",
       "      <td>150</td>\n",
       "      <td>200</td>\n",
       "      <td>100</td>\n",
       "      <td>150</td>\n",
       "      <td>100</td>\n",
       "    </tr>\n",
       "    <tr>\n",
       "      <th>group2</th>\n",
       "      <td>100</td>\n",
       "      <td>100</td>\n",
       "      <td>50</td>\n",
       "      <td>200</td>\n",
       "      <td>100</td>\n",
       "      <td>150</td>\n",
       "      <td>300</td>\n",
       "    </tr>\n",
       "  </tbody>\n",
       "</table>\n",
       "</div>"
      ],
      "text/plain": [
       "cell_type    A    B    C    D    E    F    G\n",
       "group                                       \n",
       "group1     150  150  150  200  100  150  100\n",
       "group2     100  100   50  200  100  150  300"
      ]
     },
     "metadata": {},
     "output_type": "display_data"
    }
   ],
   "source": [
    "display(adata.shape)\n",
    "display(adata.obs.head(2))\n",
    "display(pd.crosstab(adata.obs.group, adata.obs.cell_type))"
   ]
  },
  {
   "cell_type": "markdown",
   "id": "83b398c0",
   "metadata": {},
   "source": [
    "## Permutation Test and Plotting"
   ]
  },
  {
   "cell_type": "code",
   "execution_count": 6,
   "id": "27aafd30",
   "metadata": {
    "scrolled": true
   },
   "outputs": [
    {
     "name": "stderr",
     "output_type": "stream",
     "text": [
      "Processing cell types: 100%|████████████████████████████████████████████████████████████████| 7/7 [03:03<00:00, 26.19s/it]\n"
     ]
    },
    {
     "data": {
      "text/html": [
       "<div>\n",
       "<style scoped>\n",
       "    .dataframe tbody tr th:only-of-type {\n",
       "        vertical-align: middle;\n",
       "    }\n",
       "\n",
       "    .dataframe tbody tr th {\n",
       "        vertical-align: top;\n",
       "    }\n",
       "\n",
       "    .dataframe thead th {\n",
       "        text-align: right;\n",
       "    }\n",
       "</style>\n",
       "<table border=\"1\" class=\"dataframe\">\n",
       "  <thead>\n",
       "    <tr style=\"text-align: right;\">\n",
       "      <th></th>\n",
       "      <th>cell_type</th>\n",
       "      <th>p_value</th>\n",
       "      <th>observed_diff</th>\n",
       "      <th>lower_ci</th>\n",
       "      <th>upper_ci</th>\n",
       "      <th>adj_p_value</th>\n",
       "    </tr>\n",
       "  </thead>\n",
       "  <tbody>\n",
       "    <tr>\n",
       "      <th>0</th>\n",
       "      <td>A</td>\n",
       "      <td>0.0018</td>\n",
       "      <td>0.584963</td>\n",
       "      <td>0.244734</td>\n",
       "      <td>0.935167</td>\n",
       "      <td>0.00315</td>\n",
       "    </tr>\n",
       "    <tr>\n",
       "      <th>1</th>\n",
       "      <td>B</td>\n",
       "      <td>0.0009</td>\n",
       "      <td>0.584963</td>\n",
       "      <td>0.247928</td>\n",
       "      <td>0.933788</td>\n",
       "      <td>0.00210</td>\n",
       "    </tr>\n",
       "    <tr>\n",
       "      <th>2</th>\n",
       "      <td>C</td>\n",
       "      <td>0.0001</td>\n",
       "      <td>1.584963</td>\n",
       "      <td>1.155795</td>\n",
       "      <td>2.063326</td>\n",
       "      <td>0.00035</td>\n",
       "    </tr>\n",
       "    <tr>\n",
       "      <th>3</th>\n",
       "      <td>D</td>\n",
       "      <td>1.0000</td>\n",
       "      <td>0.000000</td>\n",
       "      <td>-0.255042</td>\n",
       "      <td>0.247104</td>\n",
       "      <td>1.00000</td>\n",
       "    </tr>\n",
       "    <tr>\n",
       "      <th>4</th>\n",
       "      <td>E</td>\n",
       "      <td>1.0000</td>\n",
       "      <td>0.000000</td>\n",
       "      <td>-0.372834</td>\n",
       "      <td>0.383915</td>\n",
       "      <td>1.00000</td>\n",
       "    </tr>\n",
       "    <tr>\n",
       "      <th>5</th>\n",
       "      <td>F</td>\n",
       "      <td>1.0000</td>\n",
       "      <td>0.000000</td>\n",
       "      <td>-0.305423</td>\n",
       "      <td>0.303392</td>\n",
       "      <td>1.00000</td>\n",
       "    </tr>\n",
       "    <tr>\n",
       "      <th>6</th>\n",
       "      <td>G</td>\n",
       "      <td>0.0001</td>\n",
       "      <td>-1.584963</td>\n",
       "      <td>-1.901085</td>\n",
       "      <td>-1.293731</td>\n",
       "      <td>0.00035</td>\n",
       "    </tr>\n",
       "  </tbody>\n",
       "</table>\n",
       "</div>"
      ],
      "text/plain": [
       "  cell_type  p_value  observed_diff  lower_ci  upper_ci  adj_p_value\n",
       "0         A   0.0018       0.584963  0.244734  0.935167      0.00315\n",
       "1         B   0.0009       0.584963  0.247928  0.933788      0.00210\n",
       "2         C   0.0001       1.584963  1.155795  2.063326      0.00035\n",
       "3         D   1.0000       0.000000 -0.255042  0.247104      1.00000\n",
       "4         E   1.0000       0.000000 -0.372834  0.383915      1.00000\n",
       "5         F   1.0000       0.000000 -0.305423  0.303392      1.00000\n",
       "6         G   0.0001      -1.584963 -1.901085 -1.293731      0.00035"
      ]
     },
     "execution_count": 6,
     "metadata": {},
     "output_type": "execute_result"
    }
   ],
   "source": [
    "group1='group1'\n",
    "group2='group2'\n",
    "\n",
    "# Perform the permutation test\n",
    "results = pt.permutation_test(  adata,\n",
    "                                group1,\n",
    "                                group2,\n",
    "                                group_col='group',\n",
    "                                cell_type_col='cell_type',\n",
    "                                nperm=10000,\n",
    "                                alpha=0.05,\n",
    "                                n_bootstrap=10000,\n",
    "                                verbose=True)\n",
    "\n",
    "results\n"
   ]
  },
  {
   "cell_type": "code",
   "execution_count": 7,
   "id": "e8146d48",
   "metadata": {
    "scrolled": true
   },
   "outputs": [
    {
     "data": {
      "image/png": "[encoded data removed]",
      "text/plain": [
       "<Figure size 600x400 with 1 Axes>"
      ]
     },
     "metadata": {},
     "output_type": "display_data"
    }
   ],
   "source": [
    "plot = pt.point_range_plot(results, figsize=(6,4))"
   ]
  },
  {
   "cell_type": "code",
   "execution_count": null,
   "id": "0f420c72",
   "metadata": {},
   "outputs": [],
   "source": []
  }
 ],
 "metadata": {
  "kernelspec": {
   "display_name": "Python 3 (ipykernel)",
   "language": "python",
   "name": "python3"
  },
  "language_info": {
   "codemirror_mode": {
    "name": "ipython",
    "version": 3
   },
   "file_extension": ".py",
   "mimetype": "text/x-python",
   "name": "python",
   "nbconvert_exporter": "python",
   "pygments_lexer": "ipython3",
   "version": "3.8.17"
  }
 },
 "nbformat": 4,
 "nbformat_minor": 5
}
